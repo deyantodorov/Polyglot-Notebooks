{
 "cells": [
  {
   "cell_type": "code",
   "execution_count": 1,
   "metadata": {
    "dotnet_interactive": {
     "language": "csharp"
    },
    "polyglot_notebook": {
     "kernelName": "csharp"
    },
    "vscode": {
     "languageId": "polyglot-notebook"
    }
   },
   "outputs": [
    {
     "name": "stdout",
     "output_type": "stream",
     "text": [
      "Sum of Dice: 10 ; Probability: 83205\n",
      "Sum of Dice: 9 ; Probability: 111106\n",
      "Sum of Dice: 8 ; Probability: 139413\n",
      "Sum of Dice: 5 ; Probability: 110877\n",
      "Sum of Dice: 11 ; Probability: 55360\n",
      "Sum of Dice: 7 ; Probability: 167146\n",
      "Sum of Dice: 4 ; Probability: 83117\n",
      "Sum of Dice: 3 ; Probability: 55493\n",
      "Sum of Dice: 2 ; Probability: 27696\n",
      "Sum of Dice: 6 ; Probability: 138825\n",
      "Sum of Dice: 12 ; Probability: 27762\n"
     ]
    }
   ],
   "source": [
    "using System.Security.Cryptography;\n",
    "\n",
    "int numberOfThrows = 1000000;\n",
    "Dictionary<int, int> results = new Dictionary<int, int>();\n",
    "\n",
    "for(int i = 0; i < numberOfThrows; i++)\n",
    "{\n",
    "    int dice1 = RandomNumberGenerator.GetInt32(1, 7);\n",
    "    int dice2 = RandomNumberGenerator.GetInt32(1, 7);\n",
    "\n",
    "    int sum = dice1 + dice2;\n",
    "\n",
    "    if(results.ContainsKey(sum))\n",
    "    {\n",
    "        results[sum]++;\n",
    "    }\n",
    "    else\n",
    "    {\n",
    "        results.Add(sum, 1);\n",
    "    }\n",
    "}\n",
    "\n",
    "foreach(var result in results)\n",
    "{\n",
    "    double probability = (double)result.Value / numberOfThrows;\n",
    "    Console.WriteLine($\"Sum of Dice: {result.Key} ; Probability: {result.Value}\");\n",
    "}"
   ]
  }
 ],
 "metadata": {
  "language_info": {
   "name": "python"
  },
  "orig_nbformat": 4
 },
 "nbformat": 4,
 "nbformat_minor": 2
}
