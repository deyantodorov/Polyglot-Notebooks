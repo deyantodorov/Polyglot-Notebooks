{
 "cells": [
  {
   "cell_type": "code",
   "execution_count": 8,
   "metadata": {
    "dotnet_interactive": {
     "language": "csharp"
    },
    "polyglot_notebook": {
     "kernelName": "csharp"
    },
    "vscode": {
     "languageId": "polyglot-notebook"
    }
   },
   "outputs": [
    {
     "data": {
      "text/html": [
       "<div><div></div><div></div><div><strong>Installed Packages</strong><ul><li><span>Azure.AI.OpenAI, 1.0.0-beta.5</span></li><li><span>dotenv.net, 3.1.2</span></li></ul></div></div>"
      ]
     },
     "metadata": {},
     "output_type": "display_data"
    }
   ],
   "source": [
    "#r \"nuget:Azure.AI.OpenAI,1.0.0-beta.5\"\n",
    "#r \"nuget:dotenv.net\""
   ]
  },
  {
   "cell_type": "code",
   "execution_count": 9,
   "metadata": {
    "dotnet_interactive": {
     "language": "csharp"
    },
    "polyglot_notebook": {
     "kernelName": "csharp"
    },
    "vscode": {
     "languageId": "polyglot-notebook"
    }
   },
   "outputs": [
    {
     "ename": "Error",
     "evalue": "(5,31): error CS1061: 'object' does not contain a definition for 'Key' and no accessible extension method 'Key' accepting a first argument of type 'object' could be found (are you missing a using directive or an assembly reference?)\n(5,44): error CS1061: 'object' does not contain a definition for 'Value' and no accessible extension method 'Value' accepting a first argument of type 'object' could be found (are you missing a using directive or an assembly reference?)",
     "output_type": "error",
     "traceback": [
      "(5,31): error CS1061: 'object' does not contain a definition for 'Key' and no accessible extension method 'Key' accepting a first argument of type 'object' could be found (are you missing a using directive or an assembly reference?)\n",
      "(5,44): error CS1061: 'object' does not contain a definition for 'Value' and no accessible extension method 'Value' accepting a first argument of type 'object' could be found (are you missing a using directive or an assembly reference?)"
     ]
    }
   ],
   "source": [
    "var data = Environment.GetEnvironmentVariables();\n",
    "\n",
    "foreach (DictionaryEntry item in data)\n",
    "{\n",
    "    Console.WriteLine($\"{item.Key} = {item.Value}\");\n",
    "}"
   ]
  }
 ],
 "metadata": {
  "language_info": {
   "name": "python"
  },
  "orig_nbformat": 4
 },
 "nbformat": 4,
 "nbformat_minor": 2
}
