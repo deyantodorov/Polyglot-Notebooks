{
 "cells": [
  {
   "cell_type": "code",
   "execution_count": 19,
   "metadata": {
    "dotnet_interactive": {
     "language": "csharp"
    },
    "polyglot_notebook": {
     "kernelName": "csharp"
    },
    "vscode": {
     "languageId": "polyglot-notebook"
    }
   },
   "outputs": [
    {
     "data": {
      "text/html": [
       "<div><div></div><div></div><div><strong>Installed Packages</strong><ul><li><span>Azure.AI.OpenAI, 1.0.0-beta.5</span></li><li><span>DotNetEnv, 2.5.0</span></li></ul></div></div>"
      ]
     },
     "metadata": {},
     "output_type": "display_data"
    }
   ],
   "source": [
    "#r \"nuget:Azure.AI.OpenAI,1.0.0-beta.5\"\n",
    "#r \"nuget:DotNetEnv\""
   ]
  },
  {
   "cell_type": "code",
   "execution_count": 24,
   "metadata": {
    "dotnet_interactive": {
     "language": "csharp"
    },
    "polyglot_notebook": {
     "kernelName": "csharp"
    },
    "vscode": {
     "languageId": "polyglot-notebook"
    }
   },
   "outputs": [
    {
     "name": "stdout",
     "output_type": "stream",
     "text": [
      "b71fe92e5b7c4d62bd6bb94c94f09d09\n",
      "westeurope\n",
      "https://az-dt-open-ai.openai.azure.com/\n"
     ]
    }
   ],
   "source": [
    "using System.IO;\n",
    "\n",
    "var dir = Directory.GetCurrentDirectory();\n",
    "var dotenv = Path.Combine(dir, \".env\");\n",
    "\n",
    "DotNetEnv.Env.Load(dotenv);\n",
    "\n",
    "var key = DotNetEnv.Env.GetString(\"OPENAI_KEY\");\n",
    "var region = DotNetEnv.Env.GetString(\"OPENAI_REGION\");\n",
    "var endpoint = DotNetEnv.Env.GetString(\"OPENAI_ENDPOINT\");\n",
    "\n",
    "Console.WriteLine(key ?? \"No key found in .env file\");\n",
    "Console.WriteLine(region ?? \"No region found in .env file\");\n",
    "Console.WriteLine(endpoint ?? \"No endpoint found in .env file\");\n"
   ]
  },
  {
   "cell_type": "code",
   "execution_count": null,
   "metadata": {
    "dotnet_interactive": {
     "language": "csharp"
    },
    "polyglot_notebook": {
     "kernelName": "csharp"
    },
    "vscode": {
     "languageId": "polyglot-notebook"
    }
   },
   "outputs": [],
   "source": []
  }
 ],
 "metadata": {
  "language_info": {
   "name": "python"
  },
  "orig_nbformat": 4
 },
 "nbformat": 4,
 "nbformat_minor": 2
}
